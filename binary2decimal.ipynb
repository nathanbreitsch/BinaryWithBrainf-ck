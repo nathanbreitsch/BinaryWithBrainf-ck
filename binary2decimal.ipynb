{
 "cells": [
  {
   "cell_type": "markdown",
   "metadata": {},
   "source": [
    "# Binary to Decimal Conversion with Brainf*ck"
   ]
  },
  {
   "cell_type": "markdown",
   "metadata": {},
   "source": [
    "The following is a program, written in brainfuck, to translate binary numbers into decimal numbers.  If you are unfamiliar with brainfuck, check out the following [tutorial](https://learnxinyminutes.com/docs/brainfuck/).  \n",
    "\n",
    "The input is limited to numbers which have single-digit decimal representation since the output is contained in a single brainfuck cell and is interpreted as an ascii character.  If you have an ascii table and are willing to subtract 48 from something, then the program will work for inputs up to 255 decimal, or the maximum value of a brainfuck cell."
   ]
  },
  {
   "cell_type": "markdown",
   "metadata": {},
   "source": [
    "``` brainfuck\n",
    "-+ [ - < + ] ->>>[-]++ [ - < + ] ->, [ + [ - < + ] ->------------------------------------------------[+ [ - < + ] ->>>>>>>>>>[-]+ [ - < + ] ->>>[-+ [ - < + ] ->>++ [ - < + ] ->>>>>>>>>>++ [ - < + ] ->>>]+ [ - < + ] ->>>[-]+ [ - < + ] ->>>>>>>>>>[-+ [ - < + ] ->>>++ [ - < + ] ->>>>>>>>>>]+ [ - < + ] ->[-]]+ [ - < + ] ->>>>[-]+ [ - < + ] ->>>>>>>>>>[-]+ [ - < + ] ->>>[-+ [ - < + ] ->>>>++ [ - < + ] ->>>>>>>>>>++ [ - < + ] ->>>]+ [ - < + ] ->>>[-]+ [ - < + ] ->>>>>>>>>>[-+ [ - < + ] ->>>++ [ - < + ] ->>>>>>>>>>]+ [ - < + ] ->>>>>>>>>>[-]+ [ - < + ] ->>>[-+ [ - < + ] ->>>>++ [ - < + ] ->>>>>>>>>>++ [ - < + ] ->>>]+ [ - < + ] ->>>[-]+ [ - < + ] ->>>>>>>>>>[-+ [ - < + ] ->>>++ [ - < + ] ->>>>>>>>>>]+ [ - < + ] ->>>[-]+ [ - < + ] ->>>>[-+ [ - < + ] ->>>++ [ - < + ] ->>>>]+ [ - < + ] ->,]+ [ - < + ] ->>+ [ - < + ] ->>++++++++++++++++++++++++++++++++++++++++++++++++.\n",
    "```"
   ]
  },
  {
   "cell_type": "markdown",
   "metadata": {},
   "source": [
    "The code you see above works!  If you don't believe me, you can test it in this [interpreter](https://www.nayuki.io/page/brainfuck-interpreter-javascript).\n",
    "\n",
    "I do not recommend writing brainfuck directly (if at all) so we instead build up a bunch of reusable strings using haskell"
   ]
  },
  {
   "cell_type": "markdown",
   "metadata": {},
   "source": [
    "![Brainfuck Best Practices](./generate.png)"
   ]
  },
  {
   "cell_type": "code",
   "execution_count": 28,
   "metadata": {
    "collapsed": true
   },
   "outputs": [],
   "source": [
    "gohome = \"+ [ - < + ] -\""
   ]
  },
  {
   "cell_type": "code",
   "execution_count": 29,
   "metadata": {
    "collapsed": false
   },
   "outputs": [],
   "source": [
    "goto addr = gohome ++ replicate addr '>'"
   ]
  },
  {
   "cell_type": "code",
   "execution_count": 30,
   "metadata": {
    "collapsed": false
   },
   "outputs": [],
   "source": [
    "zeroCurrentCell = \"[-]\""
   ]
  },
  {
   "cell_type": "code",
   "execution_count": 31,
   "metadata": {
    "collapsed": true
   },
   "outputs": [],
   "source": [
    "zeroCell addr = goto addr ++ zeroCurrentCell"
   ]
  },
  {
   "cell_type": "code",
   "execution_count": 32,
   "metadata": {
    "collapsed": false
   },
   "outputs": [],
   "source": [
    "addToCurrentCell val = replicate val '+'"
   ]
  },
  {
   "cell_type": "code",
   "execution_count": 33,
   "metadata": {
    "collapsed": false
   },
   "outputs": [],
   "source": [
    "setCell addr val = zeroCell addr ++ addToCurrentCell val"
   ]
  },
  {
   "cell_type": "code",
   "execution_count": 34,
   "metadata": {
    "collapsed": true
   },
   "outputs": [],
   "source": [
    "-- warning: zeros cell at addr1\n",
    "destrAddTo addr1 addr2 = goto addr1 ++ \"[-\" ++ goto addr2 ++ \"+\" ++ goto addr1 ++ \"]\""
   ]
  },
  {
   "cell_type": "code",
   "execution_count": 35,
   "metadata": {
    "collapsed": false
   },
   "outputs": [],
   "source": [
    "-- warning: zeros cell at addr1\n",
    "destrMoveTo addr1 addr2 = zeroCell addr2 ++ destrAddTo addr1 addr2"
   ]
  },
  {
   "cell_type": "code",
   "execution_count": 39,
   "metadata": {
    "collapsed": false
   },
   "outputs": [],
   "source": [
    "addTo addr1 addr2 safeSpace = \n",
    "    zeroCell safeSpace ++\n",
    "    goto addr1 ++ \"[-\" ++ goto addr2 ++ \"+\" ++ goto safeSpace ++ \"+\" ++ goto addr1 ++ \"]\" ++\n",
    "    destrMoveTo safeSpace addr1 --zeros cell at safe space"
   ]
  },
  {
   "cell_type": "code",
   "execution_count": 44,
   "metadata": {
    "collapsed": false
   },
   "outputs": [],
   "source": [
    "copyTo addr1 addr2 safeSpace = zeroCell addr2 ++ addTo addr1 addr2 safeSpace"
   ]
  },
  {
   "cell_type": "markdown",
   "metadata": {},
   "source": [
    "**multiply** and **power** turn out not to be nessesary, but were interesting to write.  Multiplication seemed to need two extra cells and exponentes seemed to require four.  It is probably possible to abstract the repeated application of a given operation."
   ]
  },
  {
   "cell_type": "code",
   "execution_count": 54,
   "metadata": {
    "collapsed": false
   },
   "outputs": [],
   "source": [
    "multiply addr1 addr2 addr3 ss1 ss2 = \n",
    "    zeroCell addr3 ++\n",
    "    copyTo addr2 ss1 ss2 ++ zeroCell ss2 ++\n",
    "    goto ss1 ++ \"[-\" ++ addTo addr1 addr3 ss2 ++ goto ss1 ++ \"]\""
   ]
  },
  {
   "cell_type": "code",
   "execution_count": 71,
   "metadata": {
    "collapsed": false
   },
   "outputs": [],
   "source": [
    "power addr1 addr2 addr3 ss1 ss2 ss3 ss4 = zeroCell addr3 ++ \"+\" ++\n",
    "    copyTo addr2 ss1 ss2 ++ zeroCell ss2 ++\n",
    "    goto ss1 ++ \"[-\" ++ multiply addr1 addr3 ss2 ss3 ss4 ++ \n",
    "        zeroCell ss3 ++ zeroCell ss4 ++\n",
    "        destrMoveTo ss2 addr3 ++ goto ss1 ++ \"]\""
   ]
  },
  {
   "cell_type": "code",
   "execution_count": 98,
   "metadata": {
    "collapsed": false
   },
   "outputs": [],
   "source": [
    "readDoWrite action readIndex outIndex finalTransform = \n",
    "    goto readIndex ++ \", [ \" ++ action ++ goto readIndex ++ \",\" ++ \"]\" ++ \n",
    "    goto outIndex ++ finalTransform ++ \".\""
   ]
  },
  {
   "cell_type": "code",
   "execution_count": 99,
   "metadata": {
    "collapsed": false
   },
   "outputs": [],
   "source": [
    "fromAscii x = goto x ++ replicate 48 '-'\n",
    "toAscii x = goto x ++ replicate 48 '+'"
   ]
  },
  {
   "cell_type": "markdown",
   "metadata": {},
   "source": [
    "- 0: Home\n",
    "- 1: Read Register\n",
    "- 2: Agg and Output\n",
    "- 3: Current $2^n$"
   ]
  },
  {
   "cell_type": "code",
   "execution_count": 103,
   "metadata": {
    "collapsed": false
   },
   "outputs": [
    {
     "data": {
      "text/plain": [
       "\"-+ [ - < + ] ->>>[-]++ [ - < + ] ->, [ + [ - < + ] ->------------------------------------------------[+ [ - < + ] ->>>>>>>>>>[-]+ [ - < + ] ->>>[-+ [ - < + ] ->>++ [ - < + ] ->>>>>>>>>>++ [ - < + ] ->>>]+ [ - < + ] ->>>[-]+ [ - < + ] ->>>>>>>>>>[-+ [ - < + ] ->>>++ [ - < + ] ->>>>>>>>>>]+ [ - < + ] ->[-]]+ [ - < + ] ->>>>[-]+ [ - < + ] ->>>>>>>>>>[-]+ [ - < + ] ->>>[-+ [ - < + ] ->>>>++ [ - < + ] ->>>>>>>>>>++ [ - < + ] ->>>]+ [ - < + ] ->>>[-]+ [ - < + ] ->>>>>>>>>>[-+ [ - < + ] ->>>++ [ - < + ] ->>>>>>>>>>]+ [ - < + ] ->>>>>>>>>>[-]+ [ - < + ] ->>>[-+ [ - < + ] ->>>>++ [ - < + ] ->>>>>>>>>>++ [ - < + ] ->>>]+ [ - < + ] ->>>[-]+ [ - < + ] ->>>>>>>>>>[-+ [ - < + ] ->>>++ [ - < + ] ->>>>>>>>>>]+ [ - < + ] ->>>[-]+ [ - < + ] ->>>>[-+ [ - < + ] ->>>++ [ - < + ] ->>>>]+ [ - < + ] ->,]+ [ - < + ] ->>+ [ - < + ] ->>++++++++++++++++++++++++++++++++++++++++++++++++.\""
      ]
     },
     "metadata": {},
     "output_type": "display_data"
    }
   ],
   "source": [
    "\"-\" ++ setCell 3 1 ++ readDoWrite (fromAscii 1 ++ \n",
    "    \"[\" ++ addTo 3 2 safeSpace1 ++\n",
    "        zeroCell 1 ++ \"]\" ++\n",
    "        copyTo 3 4 safeSpace1 ++ addTo 3 4 safeSpace1 ++ destrMoveTo 4 3\n",
    "    ) 1 2 (toAscii 2)"
   ]
  }
 ],
 "metadata": {
  "kernelspec": {
   "display_name": "Haskell",
   "language": "haskell",
   "name": "haskell"
  },
  "language_info": {
   "codemirror_mode": "ihaskell",
   "file_extension": ".hs",
   "name": "haskell",
   "version": "7.10.3"
  }
 },
 "nbformat": 4,
 "nbformat_minor": 0
}
