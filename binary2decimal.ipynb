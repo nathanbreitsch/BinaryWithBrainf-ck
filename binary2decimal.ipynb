{
 "cells": [
  {
   "cell_type": "markdown",
   "metadata": {},
   "source": [
    "# Binary to Decimal Conversion with Brainf*ck"
   ]
  },
  {
   "cell_type": "markdown",
   "metadata": {},
   "source": [
    "The following is a program, written in brainfuck, to translate binary numbers into decimal numbers.  If you are unfamiliar with brainfuck, check out the following [tutorial](https://learnxinyminutes.com/docs/brainfuck/).  \n",
    "\n",
    "The input is limited to numbers which have single-digit decimal representation since the output is contained in a single brainfuck cell and is interpreted as an ascii character.  If you have an ascii table and are willing to subtract 48 from something, then the program will work for inputs up to 255 decimal, or the maximum value of a brainfuck cell."
   ]
  },
  {
   "cell_type": "markdown",
   "metadata": {},
   "source": [
    "``` brainfuck\n",
    "-+ [ - < + ] ->, [ + [ - < + ] ->>>[-]+ [ - < + ] ->>>>[-]+ [ - < + ] ->>[-+ [ - < + ] ->>>++ [ - < + ] ->>>>++ [ - < + ] ->>]+ [ - < + ] ->>[-]+ [ - < + ] ->>>>[-+ [ - < + ] ->>++ [ - < + ] ->>>>]+ [ - < + ] ->>>>[-]+ [ - < + ] ->>>[-+ [ - < + ] ->>++ [ - < + ] ->>>>++ [ - < + ] ->>>]+ [ - < + ] ->>>[-]+ [ - < + ] ->>>>[-+ [ - < + ] ->>>++ [ - < + ] ->>>>]+ [ - < + ] ->------------------------------------------------+ [ - < + ] ->>>[-]+ [ - < + ] ->[-+ [ - < + ] ->>++ [ - < + ] ->>>++ [ - < + ] ->]+ [ - < + ] ->[-]+ [ - < + ] ->>>[-+ [ - < + ] ->++ [ - < + ] ->>>]+ [ - < + ] ->,]+ [ - < + ] ->>+ [ - < + ] ->>++++++++++++++++++++++++++++++++++++++++++++++++.\n",
    "```"
   ]
  },
  {
   "cell_type": "markdown",
   "metadata": {},
   "source": [
    "The code you see above works!  If you don't believe me, you can test it in this [interpreter](https://www.nayuki.io/page/brainfuck-interpreter-javascript).\n",
    "\n",
    "It is a well accepted best practice not to write brainfuck directly (or at all, for that matter).  Therefore, we build up a bunch of reusable strings with haskell."
   ]
  },
  {
   "cell_type": "markdown",
   "metadata": {},
   "source": [
    "![Brainfuck Best Practices](./generate.png)"
   ]
  },
  {
   "cell_type": "code",
   "execution_count": 2,
   "metadata": {
    "collapsed": true
   },
   "outputs": [],
   "source": [
    "gohome = \"+ [ - < + ] -\""
   ]
  },
  {
   "cell_type": "code",
   "execution_count": 3,
   "metadata": {
    "collapsed": false
   },
   "outputs": [],
   "source": [
    "goto addr = gohome ++ replicate addr '>'"
   ]
  },
  {
   "cell_type": "code",
   "execution_count": 4,
   "metadata": {
    "collapsed": false
   },
   "outputs": [],
   "source": [
    "zeroCurrentCell = \"[-]\""
   ]
  },
  {
   "cell_type": "code",
   "execution_count": 5,
   "metadata": {
    "collapsed": true
   },
   "outputs": [],
   "source": [
    "zeroCell addr = goto addr ++ zeroCurrentCell"
   ]
  },
  {
   "cell_type": "code",
   "execution_count": 6,
   "metadata": {
    "collapsed": false
   },
   "outputs": [],
   "source": [
    "addToCurrentCell val = replicate val '+'"
   ]
  },
  {
   "cell_type": "code",
   "execution_count": 21,
   "metadata": {
    "collapsed": false
   },
   "outputs": [],
   "source": [
    "setCell addr val = zeroCell addr ++ addToCurrentCell val"
   ]
  },
  {
   "cell_type": "code",
   "execution_count": 22,
   "metadata": {
    "collapsed": true
   },
   "outputs": [],
   "source": [
    "-- warning: zeros cell at addr1\n",
    "destrAddTo addr1 addr2 = goto addr1 ++ \"[-\" ++ goto addr2 ++ \"+\" ++ goto addr1 ++ \"]\""
   ]
  },
  {
   "cell_type": "code",
   "execution_count": 23,
   "metadata": {
    "collapsed": false
   },
   "outputs": [],
   "source": [
    "-- warning: zeros cell at addr1\n",
    "destrMoveTo addr1 addr2 = zeroCell addr2 ++ destrAddTo addr1 addr2"
   ]
  },
  {
   "cell_type": "code",
   "execution_count": 24,
   "metadata": {
    "collapsed": false
   },
   "outputs": [],
   "source": [
    "addTo addr1 addr2 safeSpace = \n",
    "    zeroCell safeSpace ++\n",
    "    goto addr1 ++ \"[-\" ++ goto addr2 ++ \"+\" ++ goto safeSpace ++ \"+\" ++ goto addr1 ++ \"]\" ++\n",
    "    destrMoveTo safeSpace addr1 --zeros cell at safe space"
   ]
  },
  {
   "cell_type": "code",
   "execution_count": 25,
   "metadata": {
    "collapsed": false
   },
   "outputs": [],
   "source": [
    "copyTo addr1 addr2 safeSpace = zeroCell addr2 ++ addTo addr1 addr2 safeSpace"
   ]
  },
  {
   "cell_type": "code",
   "execution_count": 26,
   "metadata": {
    "collapsed": false
   },
   "outputs": [],
   "source": [
    "readDoWrite action readIndex outIndex finalTransform = \n",
    "    goto readIndex ++ \", [ \" ++ action ++ goto readIndex ++ \",\" ++ \"]\" ++ \n",
    "    goto outIndex ++ finalTransform ++ \".\""
   ]
  },
  {
   "cell_type": "code",
   "execution_count": 27,
   "metadata": {
    "collapsed": false
   },
   "outputs": [],
   "source": [
    "double addr ss1 ss2 = copyTo addr ss1 ss2 ++ addTo ss1 addr ss2"
   ]
  },
  {
   "cell_type": "code",
   "execution_count": 28,
   "metadata": {
    "collapsed": false
   },
   "outputs": [],
   "source": [
    "fromAscii x = goto x ++ replicate 48 '-'\n",
    "toAscii x = goto x ++ replicate 48 '+'"
   ]
  },
  {
   "cell_type": "code",
   "execution_count": 29,
   "metadata": {
    "collapsed": false
   },
   "outputs": [],
   "source": [
    "home = 0\n",
    "inputCell = 1\n",
    "outputCell = 2\n",
    "safeSpace1 = 3\n",
    "safeSpace2 = 4"
   ]
  },
  {
   "cell_type": "markdown",
   "metadata": {},
   "source": [
    "## The Final Program:"
   ]
  },
  {
   "cell_type": "code",
   "execution_count": 35,
   "metadata": {
    "collapsed": false
   },
   "outputs": [
    {
     "data": {
      "text/plain": [
       "\"-+ [ - < + ] ->, [ + [ - < + ] ->>>[-]+ [ - < + ] ->>>>[-]+ [ - < + ] ->>[-+ [ - < + ] ->>>++ [ - < + ] ->>>>++ [ - < + ] ->>]+ [ - < + ] ->>[-]+ [ - < + ] ->>>>[-+ [ - < + ] ->>++ [ - < + ] ->>>>]+ [ - < + ] ->>>>[-]+ [ - < + ] ->>>[-+ [ - < + ] ->>++ [ - < + ] ->>>>++ [ - < + ] ->>>]+ [ - < + ] ->>>[-]+ [ - < + ] ->>>>[-+ [ - < + ] ->>>++ [ - < + ] ->>>>]+ [ - < + ] ->------------------------------------------------+ [ - < + ] ->>>[-]+ [ - < + ] ->[-+ [ - < + ] ->>++ [ - < + ] ->>>++ [ - < + ] ->]+ [ - < + ] ->[-]+ [ - < + ] ->>>[-+ [ - < + ] ->++ [ - < + ] ->>>]+ [ - < + ] ->,]+ [ - < + ] ->>+ [ - < + ] ->>++++++++++++++++++++++++++++++++++++++++++++++++.\""
      ]
     },
     "metadata": {},
     "output_type": "display_data"
    }
   ],
   "source": [
    "\"-\" ++ readDoWrite (\n",
    "        double outputCell safeSpace1 safeSpace2 ++\n",
    "        fromAscii inputCell ++ \n",
    "        addTo inputCell outputCell safeSpace1\n",
    "    ) 1 2 (toAscii outputCell)"
   ]
  }
 ],
 "metadata": {
  "kernelspec": {
   "display_name": "Haskell",
   "language": "haskell",
   "name": "haskell"
  },
  "language_info": {
   "codemirror_mode": "ihaskell",
   "file_extension": ".hs",
   "name": "haskell",
   "version": "7.10.3"
  }
 },
 "nbformat": 4,
 "nbformat_minor": 0
}
